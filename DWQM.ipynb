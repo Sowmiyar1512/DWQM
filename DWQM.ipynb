{
  "nbformat": 4,
  "nbformat_minor": 0,
  "metadata": {
    "colab": {
      "provenance": [],
      "authorship_tag": "ABX9TyOmS6GtegxTt+A+WJee1rqq",
      "include_colab_link": true
    },
    "kernelspec": {
      "name": "python3",
      "display_name": "Python 3"
    },
    "language_info": {
      "name": "python"
    }
  },
  "cells": [
    {
      "cell_type": "markdown",
      "metadata": {
        "id": "view-in-github",
        "colab_type": "text"
      },
      "source": [
        "<a href=\"https://colab.research.google.com/github/Sowmiyar1512/DWQM/blob/main/DWQM.ipynb\" target=\"_parent\"><img src=\"https://colab.research.google.com/assets/colab-badge.svg\" alt=\"Open In Colab\"/></a>"
      ]
    },
    {
      "cell_type": "markdown",
      "source": [],
      "metadata": {
        "id": "rx1Ytd6OEbZ8"
      }
    },
    {
      "cell_type": "code",
      "source": [
        "import pandas as pd\n",
        "from sklearn.ensemble import GradientBoostingClassifier\n",
        "\n",
        "# Load data from Excel file\n",
        "def load_data_from_excel(file_path):\n",
        "    try:\n",
        "        data = pd.read_excel(file_path)\n",
        "        return data\n",
        "    except Exception as e:\n",
        "        print(\"Error loading data from Excel:\", e)\n",
        "        return None\n",
        "\n",
        "# Train the GBM model\n",
        "def train_model(X_train, y_train):\n",
        "    model = GradientBoostingClassifier()\n",
        "    model.fit(X_train, y_train)\n",
        "    return model\n",
        "\n",
        "# Predict if water is drinkable\n",
        "def predict(model, sample):\n",
        "    prediction = model.predict(sample)\n",
        "    if prediction[0] == 1:\n",
        "        return \"Water can be drinkable\"\n",
        "    elif prediction[0] == 0:\n",
        "        return \"Water cannot be drinkable\"\n",
        "    else:\n",
        "        return \"It is okay to drink but avoid it\"\n",
        "\n",
        "# Main function\n",
        "def main():\n",
        "    # Load data\n",
        "    file_path = '/content/arduino_iot_data.xlsx' # Update with your file path\n",
        "    data = load_data_from_excel(file_path)\n",
        "    if data is None:\n",
        "        return\n",
        "\n",
        "    # Check if target column exists\n",
        "    if 'target' not in data.columns:\n",
        "        print(\"Target column not found in data. Unable to train model.\")\n",
        "        return\n",
        "\n",
        "    # Define features and target\n",
        "    X = data[['ec', 'temp', 'tds']]\n",
        "    y = data['target']\n",
        "\n",
        "    # Train the model\n",
        "    model = train_model(X, y)\n",
        "\n",
        "    # Get user input for all sample numbers\n",
        "    sample_nums = []\n",
        "    while True:\n",
        "        try:\n",
        "            sample_num = int(input(\"Enter sample number (0 to exit): \"))\n",
        "            if sample_num == 0:\n",
        "                break\n",
        "            elif sample_num < 1 or sample_num > len(data):\n",
        "                print(\"Please enter a valid sample number.\")\n",
        "                continue\n",
        "            sample_nums.append(sample_num)\n",
        "        except ValueError:\n",
        "            print(\"Please enter a valid integer.\")\n",
        "\n",
        "    # Predict drinkability for each sample\n",
        "    for sample_num in sample_nums:\n",
        "        sample = X.iloc[[sample_num - 1]]\n",
        "        result = predict(model, sample)\n",
        "        print(\"Sample\", sample_num, \":\", result)\n",
        "\n",
        "if __name__ == \"__main__\":\n",
        "    main()\n"
      ],
      "metadata": {
        "colab": {
          "base_uri": "https://localhost:8080/"
        },
        "id": "xMvM4T3vu_eb",
        "outputId": "135d82e7-1d13-43a8-dcd9-69768c08c835"
      },
      "execution_count": null,
      "outputs": [
        {
          "output_type": "stream",
          "name": "stdout",
          "text": [
            "Enter sample number (0 to exit): 1\n",
            "Enter sample number (0 to exit): 2\n",
            "Enter sample number (0 to exit): 3\n",
            "Enter sample number (0 to exit): 4\n",
            "Enter sample number (0 to exit): 5\n",
            "Enter sample number (0 to exit): 0\n",
            "Sample 1 : Water cannot be drinkable\n",
            "Sample 2 : Water can be drinkable\n",
            "Sample 3 : Water cannot be drinkable\n",
            "Sample 4 : Water can be drinkable\n",
            "Sample 5 : Water cannot be drinkable\n"
          ]
        }
      ]
    }
  ]
}